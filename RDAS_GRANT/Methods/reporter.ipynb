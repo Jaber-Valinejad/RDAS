{
  "cells": [
    {
      "cell_type": "markdown",
      "id": "a44b886c-5abc-4ecf-9845-26570bcde14d",
      "metadata": {
        "id": "a44b886c-5abc-4ecf-9845-26570bcde14d"
      },
      "source": [
        "# Projects\n",
        "\n",
        "https://api.reporter.nih.gov/"
      ]
    },
    {
      "cell_type": "code",
      "execution_count": null,
      "id": "8fd61fbc-4ab0-4e9d-859f-fcfe5a824614",
      "metadata": {
        "id": "8fd61fbc-4ab0-4e9d-859f-fcfe5a824614",
        "outputId": "85d059b4-f5d5-4618-b464-3bd3232358c8"
      },
      "outputs": [
        {
          "name": "stdout",
          "output_type": "stream",
          "text": [
            "Available fields:\n",
            "appl_id\n",
            "subproject_id\n",
            "fiscal_year\n",
            "project_num\n",
            "project_serial_num\n",
            "organization\n",
            "award_type\n",
            "activity_code\n",
            "award_amount\n",
            "is_active\n",
            "project_num_split\n",
            "principal_investigators\n",
            "contact_pi_name\n",
            "program_officers\n",
            "agency_ic_admin\n",
            "agency_ic_fundings\n",
            "cong_dist\n",
            "spending_categories\n",
            "project_start_date\n",
            "project_end_date\n",
            "organization_type\n",
            "opportunity_number\n",
            "full_study_section\n",
            "award_notice_date\n",
            "is_new\n",
            "mechanism_code_dc\n",
            "core_project_num\n",
            "terms\n",
            "pref_terms\n",
            "abstract_text\n",
            "project_title\n",
            "phr_text\n",
            "spending_categories_desc\n",
            "agency_code\n",
            "covid_response\n",
            "arra_funded\n",
            "budget_start\n",
            "budget_end\n",
            "cfda_code\n",
            "funding_mechanism\n",
            "direct_cost_amt\n",
            "indirect_cost_amt\n",
            "project_detail_url\n",
            "date_added\n"
          ]
        }
      ],
      "source": [
        "import os\n",
        "import requests\n",
        "\n",
        "def download_nih_data():\n",
        "    url = 'https://api.reporter.nih.gov/v2/projects/search'\n",
        "\n",
        "    headers = {\n",
        "        'accept': 'application/json',\n",
        "        'Content-Type': 'application/json',\n",
        "    }\n",
        "\n",
        "    data =  {\n",
        "        \"criteria\": {},\n",
        "        #\"include_fields\": [],\n",
        "        \"offset\": 0,\n",
        "        \"limit\": 1,  # Set limit to 1 to get a small sample response\n",
        "        \"sort_field\": \"project_start_date\",\n",
        "        \"sort_order\": \"desc\"\n",
        "   }\n",
        "\n",
        "    # Send POST request\n",
        "    response = requests.post(url, headers=headers, json=data)\n",
        "\n",
        "    # Check if the request was successful (status code 200)\n",
        "    if response.status_code == 200:\n",
        "        # Parse and print the response JSON data\n",
        "        result_data = response.json()\n",
        "        if result_data and \"results\" in result_data and result_data[\"results\"]:\n",
        "            # Print the available fields from the first result\n",
        "            #print(result_data[\"results\"])\n",
        "            available_fields = list(result_data[\"results\"][0].keys())\n",
        "            print(\"Available fields:\")\n",
        "            for field in available_fields:\n",
        "                print(field)\n",
        "        else:\n",
        "            print(\"No results found.\")\n",
        "    else:\n",
        "        # Print an error message if the request was not successful\n",
        "        print(f\"Error: {response.status_code}, {response.text}\")\n",
        "\n",
        "# Call the function to download NIH data\n",
        "download_nih_data()"
      ]
    },
    {
      "cell_type": "code",
      "execution_count": null,
      "id": "8cbbbabc-192d-4e75-ac2a-d25ec5cb8568",
      "metadata": {
        "id": "8cbbbabc-192d-4e75-ac2a-d25ec5cb8568",
        "outputId": "867e5aa5-cd4f-4adf-fb07-97d3f483af8f"
      },
      "outputs": [
        {
          "name": "stdout",
          "output_type": "stream",
          "text": [
            "CSV file saved at: C:\\Users\\valinejadj2\\Desktop\\Grant_data\\data.csv\n"
          ]
        }
      ],
      "source": [
        "import pandas as pd\n",
        "import requests\n",
        "\n",
        "def download_nih_data():\n",
        "    url = 'https://api.reporter.nih.gov/v2/projects/search'\n",
        "    headers = {\n",
        "        'accept': 'application/json',\n",
        "        'Content-Type': 'application/json',\n",
        "    }\n",
        "\n",
        "    # Define parameters\n",
        "    total_data = []\n",
        "    limit = 200\n",
        "    num_requests = 100 // limit\n",
        "\n",
        "    for offset in range(0, num_requests * limit, limit):\n",
        "        data = {\n",
        "            \"criteria\": {},\n",
        "            \"offset\": offset,\n",
        "            \"limit\": limit,\n",
        "            \"sort_field\": \"project_start_date\",\n",
        "            \"sort_order\": \"desc\"\n",
        "        }\n",
        "\n",
        "        # Send POST request\n",
        "        response = requests.post(url, headers=headers, json=data)\n",
        "\n",
        "        # Check if the request was successful (status code 200)\n",
        "        if response.status_code == 200:\n",
        "            # Parse and append the response JSON data to the total_data list\n",
        "            result_data = response.json()\n",
        "            total_data.extend(result_data.get('results', []))\n",
        "        else:\n",
        "            # Print an error message if the request was not successful\n",
        "            print(f\"Error: {response.status_code}, {response.text}\")\n",
        "            return\n",
        "\n",
        "    # Convert total_data to DataFrame using pandas\n",
        "    columns_to_extract = [\"abstract_text\", \"project_title\", \"phr_text\"]\n",
        "    df = pd.json_normalize(total_data)[columns_to_extract]\n",
        "\n",
        "    # Specify the path where you want to save the CSV file\n",
        "    csv_path = r'C:\\Users\\valinejadj2\\Desktop\\Grant_data\\data.csv'\n",
        "\n",
        "    # Save DataFrame to CSV\n",
        "    df.to_csv(csv_path, index=False)\n",
        "\n",
        "    print(f\"CSV file saved at: {csv_path}\")\n",
        "\n",
        "# Call the function to download NIH data and save it to CSV\n",
        "download_nih_data()"
      ]
    },
    {
      "cell_type": "markdown",
      "id": "2c399033-527d-452f-a135-3083d8f30a88",
      "metadata": {
        "id": "2c399033-527d-452f-a135-3083d8f30a88"
      },
      "source": [
        "# other examples"
      ]
    },
    {
      "cell_type": "code",
      "execution_count": null,
      "id": "e7f93ad6-e220-4d78-9c0c-0dd492b69654",
      "metadata": {
        "id": "e7f93ad6-e220-4d78-9c0c-0dd492b69654"
      },
      "outputs": [],
      "source": [
        "import os\n",
        "import requests\n",
        "\n",
        "def download_nih_data():\n",
        "    url = 'https://api.reporter.nih.gov/v2/projects/search'\n",
        "\n",
        "    headers = {\n",
        "        'accept': 'application/json',\n",
        "        'Content-Type': 'application/json',\n",
        "    }\n",
        "\n",
        "    data =  {\n",
        "        \"criteria\":\n",
        "        {#\"org_names\": [\"HARVARD MEDICAL SCHOOL\"]\n",
        "        },\n",
        "        #\"include_fields\": [   \"abstract_text\",\"project_title\",\"phr_text\"\n",
        "        #    \"FiscalYear\"\n",
        "            # \"ApplId\",\"SubprojectId\",\"FiscalYear\",\"Organization\", \"ProjectNum\",\n",
        "            # \"ProjectNumSplit\",\"ContactPiName\",\"AllText\",\"FullStudySection\",\n",
        "            # \"ProjectStartDate\",\"ProjectEndDate\"\n",
        "         #],\n",
        "         \"offset\":0,\n",
        "         \"limit\":1,\n",
        "         \"sort_field\":\"project_start_date\",\n",
        "          \"sort_order\":\"desc\"\n",
        "   }\n",
        "\n",
        "    # Send POST request\n",
        "    response = requests.post(url, headers=headers, json=data)\n",
        "\n",
        "    # Check if the request was successful (status code 200)\n",
        "    if response.status_code == 200:\n",
        "        # Parse and work with the response JSON data\n",
        "        result_data = response.json()\n",
        "        print(result_data)\n",
        "\n",
        "        # Example using os.system to make curl request\n",
        "        command = 'curl -X POST -H \"accept: application/json\" -H \"Content-Type: application/json\" -d \\'{}\\' -o output.json {}'.format(\n",
        "            repr(data).replace('\\'', '\\\"'), url)\n",
        "        os.system(command)\n",
        "    else:\n",
        "        # Print an error message if the request was not successful\n",
        "        print(f\"Error: {response.status_code}, {response.text}\")\n",
        "\n",
        "# Call the function to download NIH data\n",
        "download_nih_data()"
      ]
    },
    {
      "cell_type": "markdown",
      "id": "9654b1ec-d544-4b30-ad84-c54b54243188",
      "metadata": {
        "id": "9654b1ec-d544-4b30-ad84-c54b54243188"
      },
      "source": [
        "# publications"
      ]
    },
    {
      "cell_type": "code",
      "execution_count": null,
      "id": "5f3091c6-3c0c-47e3-b6cb-57677a69b027",
      "metadata": {
        "id": "5f3091c6-3c0c-47e3-b6cb-57677a69b027",
        "outputId": "03df0351-8f6d-4b60-a0eb-4ff12f589eae"
      },
      "outputs": [
        {
          "name": "stdout",
          "output_type": "stream",
          "text": [
            "{'meta': {'search_id': None, 'total': 473, 'offset': 0, 'limit': 10, 'sort_field': 'core_project_nums', 'sort_order': 'desc', 'sorted_by_relevance': False, 'properties': {}}, 'results': [{'coreproject': 'T32DA023356', 'pmid': 17697409, 'applid': 10625491}, {'coreproject': 'T32DA023356', 'pmid': 19705264, 'applid': 10625491}, {'coreproject': 'T32DA023356', 'pmid': 17876699, 'applid': 10625491}, {'coreproject': 'T32DA023356', 'pmid': 19046064, 'applid': 10625491}, {'coreproject': 'T32DA023356', 'pmid': 20397939, 'applid': 10625491}, {'coreproject': 'T32DA023356', 'pmid': 20399697, 'applid': 10625491}, {'coreproject': 'T32DA023356', 'pmid': 21441001, 'applid': 10625491}, {'coreproject': 'T32DA023356', 'pmid': 22236858, 'applid': 10625491}, {'coreproject': 'T32DA023356', 'pmid': 22594754, 'applid': 10625491}, {'coreproject': 'T32DA023356', 'pmid': 22847602, 'applid': 10625491}], 'facet_results': []}\n"
          ]
        }
      ],
      "source": [
        "import os\n",
        "import requests\n",
        "\n",
        "def download_nih_data():\n",
        "    url = 'https://api.reporter.nih.gov/v2/publications/search'\n",
        "\n",
        "    headers = {\n",
        "        'accept': 'application/json',\n",
        "        'Content-Type': 'application/json',\n",
        "    }\n",
        "\n",
        "    data = {\n",
        "        \"criteria\": {\n",
        "            \"core_project_nums\": [\n",
        "                \"T32DA023356\",\n",
        "                \"K01DA040543\"\n",
        "            ]\n",
        "        },\n",
        "        \"offset\": 0,\n",
        "        \"limit\": 10,\n",
        "        \"sort_field\": \"core_project_nums\",\n",
        "        \"sort_order\": \"desc\"\n",
        "    }\n",
        "\n",
        "    # Send POST request\n",
        "    response = requests.post(url, headers=headers, json=data)\n",
        "\n",
        "    # Check if the request was successful (status code 200)\n",
        "    if response.status_code == 200:\n",
        "        # Parse and work with the response JSON data\n",
        "        result_data = response.json()\n",
        "        print(result_data)\n",
        "\n",
        "        # Example using os.system to make curl request\n",
        "        command = 'curl -X POST -H \"accept: application/json\" -H \"Content-Type: application/json\" -d \\'{}\\' -o output.json {}'.format(\n",
        "            repr(data).replace('\\'', '\\\"'), url)\n",
        "        os.system(command)\n",
        "    else:\n",
        "        # Print an error message if the request was not successful\n",
        "        print(f\"Error: {response.status_code}, {response.text}\")\n",
        "\n",
        "# Call the function to download NIH data\n",
        "download_nih_data()"
      ]
    },
    {
      "cell_type": "code",
      "execution_count": null,
      "id": "2645244b-5174-4aeb-9570-222a43a2e9de",
      "metadata": {
        "id": "2645244b-5174-4aeb-9570-222a43a2e9de"
      },
      "outputs": [],
      "source": []
    }
  ],
  "metadata": {
    "kernelspec": {
      "display_name": "Python 3 (ipykernel)",
      "language": "python",
      "name": "python3"
    },
    "language_info": {
      "codemirror_mode": {
        "name": "ipython",
        "version": 3
      },
      "file_extension": ".py",
      "mimetype": "text/x-python",
      "name": "python",
      "nbconvert_exporter": "python",
      "pygments_lexer": "ipython3",
      "version": "3.12.0"
    },
    "colab": {
      "provenance": []
    }
  },
  "nbformat": 4,
  "nbformat_minor": 5
}